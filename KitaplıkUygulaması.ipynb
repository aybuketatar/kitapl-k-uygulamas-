{
  "nbformat": 4,
  "nbformat_minor": 0,
  "metadata": {
    "colab": {
      "provenance": [],
      "authorship_tag": "ABX9TyO/nSWrDDyLpy9UEzP5e6rz",
      "include_colab_link": true
    },
    "kernelspec": {
      "name": "python3",
      "display_name": "Python 3"
    },
    "language_info": {
      "name": "python"
    }
  },
  "cells": [
    {
      "cell_type": "markdown",
      "metadata": {
        "id": "view-in-github",
        "colab_type": "text"
      },
      "source": [
        "<a href=\"https://colab.research.google.com/github/aybuketatar/kitapl-k-uygulamas-/blob/main/Kitapl%C4%B1kUygulamas%C4%B1.ipynb\" target=\"_parent\"><img src=\"https://colab.research.google.com/assets/colab-badge.svg\" alt=\"Open In Colab\"/></a>"
      ]
    },
    {
      "cell_type": "code",
      "execution_count": 15,
      "metadata": {
        "colab": {
          "base_uri": "https://localhost:8080/"
        },
        "id": "JwqBM3Old-pD",
        "outputId": "1d745d2d-d756-4dc2-8e5e-8585ec137c7e"
      },
      "outputs": [
        {
          "output_type": "stream",
          "name": "stdout",
          "text": [
            "\n",
            " Yeni Eser Ekleme \n",
            "Eklemek istediğiniz eserin adını giriniz: Hayvan çiftliği\n",
            "Eklediğiniz eserin yazarını giriniz: George Orwell\n",
            "\n",
            " Yeni Eser Ekleme \n",
            "Eklemek istediğiniz eserin adını giriniz: Sefiller\n",
            "Eklediğiniz eserin yazarını giriniz: Victor HUGO\n",
            "\n",
            " Yeni Eser Ekleme \n",
            "Eklemek istediğiniz eserin adını giriniz: Kürk Mantolu Madonna\n",
            "Eklediğiniz eserin yazarını giriniz: Sabahattin Ali\n",
            "\n",
            " Kütüphanedeki Eserler:\n",
            "Eser Adı: Hayvan çiftliği\n",
            "Eser Adı: Sefiller\n",
            "Eser Adı: Kürk Mantolu Madonna\n",
            "Aramak istediğiniz eserin adını veya yazarını giriniz: victor hugo\n",
            "\n",
            " Arama Sonuçları:\n",
            "Eser Adı: Sefiller, Yazar : Victor HUGO\n"
          ]
        }
      ],
      "source": [
        "kutuphane = [] #kütüphaneye ekleyeceğim eserleri daha sonrasında buraya eklemek için boş bir liste oluşturdum.\n",
        "\n",
        "def eser_ekle():\n",
        "    print(\"\\n Yeni Eser Ekleme \")\n",
        "    ad = input(\"Eklemek istediğiniz eserin adını giriniz: \")\n",
        "    yazar = input(\"Eklediğiniz eserin yazarını giriniz: \")\n",
        "\n",
        "    eser = {'ad': ad,\n",
        "            'yazar': yazar}\n",
        "\n",
        "    kutuphane.append(eser)\n",
        "\n",
        "def eserleri_listele():\n",
        "    print(\"\\n Kütüphanedeki Eserler:\") ## /n fonksiyonunu kodumda birçok yerde kullandım. eser listesini ve aramaları alt alta görebilmek için.\n",
        "\n",
        "    for eser in kutuphane:\n",
        "        print(f\"Eser Adı: {eser['ad']}\")\n",
        "\n",
        "def eser_ara():\n",
        "    arama = input(\"Aramak istediğiniz eserin adını veya yazarını giriniz: \").lower()\n",
        "\n",
        "    bulunanlar = []\n",
        "    for eser in kutuphane:\n",
        "        if arama in eser['ad'].lower() or arama in eser['yazar'].lower():  # Eser adını küçük harfe çevirdim. arama terimlerinde skıntı çıkmaması için\n",
        "            bulunanlar.append(eser)\n",
        "\n",
        "    if bulunanlar:\n",
        "        print(\"\\n Arama Sonuçları:\")\n",
        "        for eser_bulunan in bulunanlar:\n",
        "            print(f\"Eser Adı: {eser_bulunan['ad']}, Yazar : {eser_bulunan['yazar']}\")\n",
        "    else:\n",
        "        print(\"Aradığınız eser bulunamadı.\")\n",
        "\n",
        "# Fonksiyonları çalıştırmak için basit bir örnek kullanım\n",
        "eser_ekle()\n",
        "eser_ekle()\n",
        "eser_ekle() # Üç adet eser eklemek istediğim için fonksiyonu 3 kez çalıştırdım.\n",
        "eserleri_listele()\n",
        "eser_ara()"
      ]
    }
  ]
}